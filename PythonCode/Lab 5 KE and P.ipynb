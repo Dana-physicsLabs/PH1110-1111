{
 "cells": [
  {
   "cell_type": "code",
   "execution_count": 12,
   "metadata": {},
   "outputs": [],
   "source": [
    "### 1: velocity\n",
    "v_Ai = 0.1 #initial velocity (from statistics analysis of velocity graph)\n",
    "dv_Ai = 0.0001 #uncertainty of \"\n",
    "\n",
    "v_Af = 0.2  #final velocity (from statistics analysis of velocity graph)\n",
    "dv_Af = 0.0002 #uncertainty of \"\n",
    "\n",
    "\n",
    "#For more information about propogating uncertainty for items that use \n",
    "#addition or subtraction please see Lab 1. \n",
    "delta_vA = v_Af - v_Ai #change in velocity \n",
    "dvA = dv_Ai + dv_Af #propogation of uncertainty for velocity \n",
    "\n",
    "\n",
    "\n",
    "### 2: mass\n",
    "m = 0.4975 #measured mass of the cart in kg\n",
    "dm = 0.0001 #uncertainty in \""
   ]
  },
  {
   "cell_type": "code",
   "execution_count": 15,
   "metadata": {},
   "outputs": [
    {
     "name": "stdout",
     "output_type": "stream",
     "text": [
      "Intial Kinetic Energy: 0.004975 ± 1.0950000000000002e-05  Newtons\n",
      "Final Kinetic Energy: 0.0995 ± 0.0001195  Newtons\n"
     ]
    }
   ],
   "source": [
    "\n",
    "\n",
    "### 3: Kinetic Energy\n",
    "ke_i = (m * v_Ai * v_Ai) #initial momentum of the system\n",
    "dke_i = ke_i * ((dm/m)+2*((dv_Ai)/abs(v_Ai))) #uncertainty in \"\n",
    "#Some notes on the above equation\n",
    "\n",
    "#Don't need to do absolute value of m because it's already positive\n",
    "# dm/m here is essentially dx/abs(x) as written in eq. 4 in Lab 1R\n",
    "# that means (dv_A0+dv_B0)/abs(v_A0+v_B0))) corresponds to dy/abs(y) \" \n",
    "# p_0 corresponds to abs(A) in eq. 4 in Lab 1R. \n",
    "\n",
    "ke_f = (m * v_Af) #final momentum of the system\n",
    "\n",
    "dke_f = ke_f * ((dm/m)+((dv_Af)/abs(v_Af))) #uncertainty in \"\n",
    "\n",
    "delta_ke = ke_f - ke_i #change in momentum\n",
    "dke = dke_f + dke_i #uncertainty of \"\n",
    "print(\"Intial Kinetic Energy:\",ke_i,\"±\",dke_i,\" Newtons\") #print the change in momentum and its uncertainty\n",
    "\n",
    "print(\"Final Kinetic Energy:\",ke_f,\"±\",dke_f,\" Newtons\") #print the change in momentum and its uncertainty\n"
   ]
  },
  {
   "cell_type": "code",
   "execution_count": null,
   "metadata": {},
   "outputs": [],
   "source": []
  }
 ],
 "metadata": {
  "kernelspec": {
   "display_name": "Python 3",
   "language": "python",
   "name": "python3"
  },
  "language_info": {
   "codemirror_mode": {
    "name": "ipython",
    "version": 3
   },
   "file_extension": ".py",
   "mimetype": "text/x-python",
   "name": "python",
   "nbconvert_exporter": "python",
   "pygments_lexer": "ipython3",
   "version": "3.7.0"
  }
 },
 "nbformat": 4,
 "nbformat_minor": 2
}

{
 "cells": [
  {
   "cell_type": "code",
   "execution_count": 14,
   "metadata": {},
   "outputs": [],
   "source": [
    "### 1: velocity\n",
    "v_Ai = 0.5 #initial velocity (from statistics analysis of velocity graph)\n",
    "dv_Ai = 0.0001 #uncertainty of \"\n",
    "\n",
    "v_Bi = 0.0 #cart B at rest at beginning\n",
    "dv_Bi = 0.0\n",
    "\n",
    "v_Af = 0.13  #final velocity (from statistics analysis of velocity graph)\n",
    "dv_Af = 0.01 #uncertainty of \"\n",
    "\n",
    "v_Bf = 0.4360\n",
    "dv_Bf = 0.006 \n",
    "\n",
    "### 2: mass\n",
    "mA = 0.4975 #measured mass of the cart in kg\n",
    "dmA = 0.001 #uncertainty in \"\n",
    "\n",
    "mB = 0.50\n",
    "dmB = 0.001"
   ]
  },
  {
   "cell_type": "code",
   "execution_count": 15,
   "metadata": {},
   "outputs": [
    {
     "name": "stdout",
     "output_type": "stream",
     "text": [
      "Intial Velcro Kinetic Energy: 0.0621875 ± 0.00014987500000000002  Newtons\n",
      "Final Velcro Kinetic Energy: 0.0648375 ± 0.01023500163316583  Newtons\n"
     ]
    }
   ],
   "source": [
    "## For how to calulate the momentum see Lab 4 code\n",
    "\n",
    "### 3: Kinetic Energy for Velcro\n",
    "ke_i = .5*(mA * v_Ai * v_Ai) #initial kinetic energy of the system\n",
    "\n",
    "dke_i = ke_i * ((dmA/mA)+(2*((dv_Ai)/abs(v_Ai)))) #uncertainty in \"\n",
    "#Some notes on the above equation\n",
    "\n",
    "#^^if only 1 cart (cart 1) is moving\n",
    "\n",
    "\n",
    "\n",
    "#Don't need to do absolute value of m because it's already positive\n",
    "# dm/m here is essentially dx/abs(x) as written in eq. 4 in Lab 1R\n",
    "# that means (dv_A0+dv_B0)/abs(v_A0+v_B0))) corresponds to dy/abs(y) \" \n",
    "# p_0 corresponds to abs(A) in eq. 4 in Lab 1R. \n",
    "\n",
    "#This is for velcro KE calculation \n",
    "\n",
    "ke_f = .5*((mA + mB) * v_Af) #final kinetic energy of the system\n",
    "\n",
    "dke_f = ke_f * ((dmA/mA)+((dv_Af)/abs(v_Af))) + ke_f * ((dmB/mB)+((dv_Af)/abs(v_Af))) #uncertainty in \"\n",
    "\n",
    "delta_ke = ke_f - ke_i #change in kinetic energy\n",
    "dke = dke_f + dke_i #uncertainty of \"\n",
    "print(\"Intial Velcro Kinetic Energy:\",ke_i,\"±\",dke_i,\" Newtons\") #print the intial \n",
    "#kinetic energy and its uncertainty\n",
    "\n",
    "print(\"Final Velcro Kinetic Energy:\",ke_f,\"±\",dke_f,\" Newtons\") #print the final\n",
    "#kinetic energy and its uncertainty\n"
   ]
  },
  {
   "cell_type": "code",
   "execution_count": 17,
   "metadata": {},
   "outputs": [
    {
     "name": "stdout",
     "output_type": "stream",
     "text": [
      "Intial Plunger Kinetic Energy: 0.0621875 ± 0.00014987500000000002  Newtons\n",
      "Final Plunger Kinetic Energy: 0.051727875 ± 0.004082523057692308  Newtons\n"
     ]
    }
   ],
   "source": [
    "## For how to calulate the momentum see Lab 4 code\n",
    "\n",
    "### 3: Kinetic Energy for Plunger\n",
    "ke_i = .5*(mA * v_Ai * v_Ai) #initial kinetic energy of the system\n",
    "dke_i = ke_i * ((dmA/mA)+2*((dv_Ai)/abs(v_Ai))) #uncertainty in \"\n",
    "#^^if only 1 cart (cart A) is moving\n",
    "\n",
    "\n",
    "#This is for plunger KE calculation \n",
    "\n",
    "ke_f = .5*((mA) * v_Af *v_Af ) + .5*(mB * v_Bf *v_Bf) #final kinetic energy of the system\n",
    "\n",
    "dke_f = ke_f * ((dm2/m2)+((dv_Af)/abs(v_Af))) #uncertainty in \"\n",
    "\n",
    "delta_ke = ke_f - ke_i #change in kinetic energy\n",
    "dke = dke_f + dke_i #uncertainty of \"\n",
    "print(\"Intial Plunger Kinetic Energy:\",ke_i,\"±\",dke_i,\" Newtons\") #print the intial \n",
    "#kinetic energy and its uncertainty\n",
    "\n",
    "print(\"Final Plunger Kinetic Energy:\",ke_f,\"±\",dke_f,\" Newtons\") #print the final\n",
    "#kinetic energy and its uncertainty\n"
   ]
  },
  {
   "cell_type": "code",
   "execution_count": null,
   "metadata": {},
   "outputs": [],
   "source": []
  }
 ],
 "metadata": {
  "kernelspec": {
   "display_name": "Python 3",
   "language": "python",
   "name": "python3"
  },
  "language_info": {
   "codemirror_mode": {
    "name": "ipython",
    "version": 3
   },
   "file_extension": ".py",
   "mimetype": "text/x-python",
   "name": "python",
   "nbconvert_exporter": "python",
   "pygments_lexer": "ipython3",
   "version": "3.7.0"
  }
 },
 "nbformat": 4,
 "nbformat_minor": 2
}

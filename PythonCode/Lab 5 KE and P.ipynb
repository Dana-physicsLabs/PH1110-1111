{
 "cells": [
  {
   "cell_type": "code",
   "execution_count": 6,
   "metadata": {},
   "outputs": [],
   "source": [
    "### 1: velocity\n",
    "v_Ai = 0.1 #initial velocity (from statistics analysis of velocity graph)\n",
    "dv_Ai = 0.0001 #uncertainty of \"\n",
    "\n",
    "v_Af = 0.2  #final velocity (from statistics analysis of velocity graph)\n",
    "dv_Af = 0.0002 #uncertainty of \"\n",
    "\n",
    "\n",
    "### 2: mass\n",
    "m1 = 0.4975 #measured mass of the cart in kg\n",
    "dm1 = 0.0001 #uncertainty in \"\n",
    "\n",
    "m2 = 0.50\n",
    "dm2 = 0.001"
   ]
  },
  {
   "cell_type": "code",
   "execution_count": 7,
   "metadata": {},
   "outputs": [
    {
     "name": "stdout",
     "output_type": "stream",
     "text": [
      "Intial Velcro Kinetic Energy: 0.004975 ± 1.0950000000000002e-05  Newtons\n",
      "Final Velcro Kinetic Energy: 0.1995 ± 0.0008381005025125629  Newtons\n"
     ]
    }
   ],
   "source": [
    "## For how to calulate the momentum see Lab 4 code\n",
    "\n",
    "### 3: Kinetic Energy for Velcro\n",
    "ke_i = (m1 * v_Ai * v_Ai) #initial kinetic energy of the system\n",
    "dke_i = ke_i * ((dm1/m1)+2*((dv_Ai)/abs(v_Ai))) #uncertainty in \"\n",
    "#Some notes on the above equation\n",
    "\n",
    "#^^if only 1 cart (cart 1) is moving\n",
    "\n",
    "\n",
    "\n",
    "#Don't need to do absolute value of m because it's already positive\n",
    "# dm/m here is essentially dx/abs(x) as written in eq. 4 in Lab 1R\n",
    "# that means (dv_A0+dv_B0)/abs(v_A0+v_B0))) corresponds to dy/abs(y) \" \n",
    "# p_0 corresponds to abs(A) in eq. 4 in Lab 1R. \n",
    "\n",
    "#This is for velcro KE calculation \n",
    "\n",
    "ke_f = ((m1 + m2) * v_Af) #final kinetic energy of the system\n",
    "\n",
    "dke_f = ke_f * ((dm1/m1)+((dv_Af)/abs(v_Af))) + ke_f * ((dm2/m2)+((dv_Af)/abs(v_Af))) #uncertainty in \"\n",
    "\n",
    "delta_ke = ke_f - ke_i #change in kinetic energy\n",
    "dke = dke_f + dke_i #uncertainty of \"\n",
    "print(\"Intial Velcro Kinetic Energy:\",ke_i,\"±\",dke_i,\" Newtons\") #print the intial \n",
    "#kinetic energy and its uncertainty\n",
    "\n",
    "print(\"Final Velcro Kinetic Energy:\",ke_f,\"±\",dke_f,\" Newtons\") #print the final\n",
    "#kinetic energy and its uncertainty\n"
   ]
  },
  {
   "cell_type": "code",
   "execution_count": 10,
   "metadata": {},
   "outputs": [
    {
     "name": "stdout",
     "output_type": "stream",
     "text": [
      "Intial Plunger Kinetic Energy: 0.004975 ± 1.0950000000000002e-05  Newtons\n",
      "Final Plunger Kinetic Energy: 0.1 ± 0.00030000000000000003  Newtons\n"
     ]
    }
   ],
   "source": [
    "## For how to calulate the momentum see Lab 4 code\n",
    "\n",
    "### 3: Kinetic Energy for Plunger\n",
    "ke_i = (m1 * v_Ai * v_Ai) #initial kinetic energy of the system\n",
    "dke_i = ke_i * ((dm1/m1)+2*((dv_Ai)/abs(v_Ai))) #uncertainty in \"\n",
    "#Some notes on the above equation\n",
    "\n",
    "#^^if only 1 cart (cart 1) is moving\n",
    "\n",
    "\n",
    "#This is for plunger KE calculation \n",
    "\n",
    "ke_f = (m2) * v_Af #final kinetic energy of the system\n",
    "\n",
    "dke_f = ke_f * ((dm2/m2)+((dv_Af)/abs(v_Af))) #uncertainty in \"\n",
    "\n",
    "delta_ke = ke_f - ke_i #change in kinetic energy\n",
    "dke = dke_f + dke_i #uncertainty of \"\n",
    "print(\"Intial Plunger Kinetic Energy:\",ke_i,\"±\",dke_i,\" Newtons\") #print the intial \n",
    "#kinetic energy and its uncertainty\n",
    "\n",
    "print(\"Final Plunger Kinetic Energy:\",ke_f,\"±\",dke_f,\" Newtons\") #print the final\n",
    "#kinetic energy and its uncertainty\n"
   ]
  },
  {
   "cell_type": "code",
   "execution_count": null,
   "metadata": {},
   "outputs": [],
   "source": []
  }
 ],
 "metadata": {
  "kernelspec": {
   "display_name": "Python 3",
   "language": "python",
   "name": "python3"
  },
  "language_info": {
   "codemirror_mode": {
    "name": "ipython",
    "version": 3
   },
   "file_extension": ".py",
   "mimetype": "text/x-python",
   "name": "python",
   "nbconvert_exporter": "python",
   "pygments_lexer": "ipython3",
   "version": "3.7.0"
  }
 },
 "nbformat": 4,
 "nbformat_minor": 2
}
